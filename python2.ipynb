{
    "cells": [
        {
            "cell_type": "markdown",
            "metadata": {},
            "source": "# historical data"
        },
        {
            "cell_type": "code",
            "execution_count": 1,
            "metadata": {},
            "outputs": [
                {
                    "data": {
                        "text/html": "<div>\n<style scoped>\n    .dataframe tbody tr th:only-of-type {\n        vertical-align: middle;\n    }\n\n    .dataframe tbody tr th {\n        vertical-align: top;\n    }\n\n    .dataframe thead th {\n        text-align: right;\n    }\n</style>\n<table border=\"1\" class=\"dataframe\">\n  <thead>\n    <tr style=\"text-align: right;\">\n      <th></th>\n      <th>CUSTOMER_ID</th>\n      <th>OVERDUE_BALANCE</th>\n      <th>BASE_USAGE</th>\n      <th>CREDIT_HISTORY</th>\n      <th>ALTERNATE_USAGE</th>\n      <th>STANDING_CHARGE</th>\n      <th>BASE_CHARGE</th>\n      <th>ALTERNATE_CHARGE</th>\n      <th>LEVY</th>\n      <th>TAX</th>\n      <th>...</th>\n      <th>MISSED_PAYMENT</th>\n      <th>BILLING_MONTH</th>\n      <th>RATIO_THIS_MONTH_BASE_USAGE_VS_LAST_MONTH</th>\n      <th>RATIO_THIS_MONTH_BASE_USAGE_VS_AVG_LOOKBACK_WINDOW</th>\n      <th>RATIO_THIS_MONTH_ALTERNATE_USAGE_VS_LAST_MONTH</th>\n      <th>RATIO_THIS_MONTH_ALTERNATE_USAGE_VS_AVG_LOOKBACK_WINDOW</th>\n      <th>RATIO_THIS_MONTH_TOTAL_TO_PAY_VS_LAST_MONTH</th>\n      <th>RATIO_THIS_MONTH_TOTAL_TO_PAY_VS_AVG_LOOKBACK_WINDOW</th>\n      <th>NUM_MISSED_PAYMENTS_LOOKBACK_WINDOW</th>\n      <th>BILLING_MONTH_NUMBER</th>\n    </tr>\n  </thead>\n  <tbody>\n    <tr>\n      <th>0</th>\n      <td>341</td>\n      <td>0.0</td>\n      <td>457.56</td>\n      <td>A</td>\n      <td>112.62</td>\n      <td>7.49</td>\n      <td>67.44</td>\n      <td>10.16</td>\n      <td>2.55</td>\n      <td>17.18</td>\n      <td>...</td>\n      <td>Paid</td>\n      <td>201904</td>\n      <td>1.010066</td>\n      <td>0.968613</td>\n      <td>1.003296</td>\n      <td>0.963031</td>\n      <td>1.008369</td>\n      <td>0.970586</td>\n      <td>0</td>\n      <td>4</td>\n    </tr>\n    <tr>\n      <th>1</th>\n      <td>374</td>\n      <td>0.0</td>\n      <td>1161.67</td>\n      <td>A</td>\n      <td>0.00</td>\n      <td>5.62</td>\n      <td>150.32</td>\n      <td>0.00</td>\n      <td>4.68</td>\n      <td>31.48</td>\n      <td>...</td>\n      <td>Paid</td>\n      <td>201903</td>\n      <td>0.865942</td>\n      <td>0.906075</td>\n      <td>0.000000</td>\n      <td>0.000000</td>\n      <td>0.870136</td>\n      <td>0.909148</td>\n      <td>0</td>\n      <td>3</td>\n    </tr>\n    <tr>\n      <th>2</th>\n      <td>398</td>\n      <td>0.0</td>\n      <td>449.21</td>\n      <td>A</td>\n      <td>0.00</td>\n      <td>5.62</td>\n      <td>58.13</td>\n      <td>0.00</td>\n      <td>1.91</td>\n      <td>12.87</td>\n      <td>...</td>\n      <td>Paid</td>\n      <td>201904</td>\n      <td>1.005101</td>\n      <td>0.949196</td>\n      <td>0.000000</td>\n      <td>0.000000</td>\n      <td>1.004605</td>\n      <td>0.953458</td>\n      <td>0</td>\n      <td>4</td>\n    </tr>\n    <tr>\n      <th>3</th>\n      <td>427</td>\n      <td>0.0</td>\n      <td>888.02</td>\n      <td>A</td>\n      <td>0.00</td>\n      <td>5.62</td>\n      <td>114.91</td>\n      <td>0.00</td>\n      <td>3.62</td>\n      <td>24.33</td>\n      <td>...</td>\n      <td>Paid</td>\n      <td>201901</td>\n      <td>0.893290</td>\n      <td>0.955593</td>\n      <td>0.000000</td>\n      <td>0.000000</td>\n      <td>0.897757</td>\n      <td>0.957585</td>\n      <td>0</td>\n      <td>1</td>\n    </tr>\n    <tr>\n      <th>4</th>\n      <td>435</td>\n      <td>0.0</td>\n      <td>670.17</td>\n      <td>B</td>\n      <td>0.00</td>\n      <td>14.87</td>\n      <td>86.72</td>\n      <td>0.00</td>\n      <td>3.05</td>\n      <td>20.51</td>\n      <td>...</td>\n      <td>Paid</td>\n      <td>201808</td>\n      <td>3.169702</td>\n      <td>0.000000</td>\n      <td>0.000000</td>\n      <td>0.000000</td>\n      <td>2.405805</td>\n      <td>0.000000</td>\n      <td>0</td>\n      <td>8</td>\n    </tr>\n  </tbody>\n</table>\n<p>5 rows \u00d7 43 columns</p>\n</div>",
                        "text/plain": "   CUSTOMER_ID  OVERDUE_BALANCE  BASE_USAGE CREDIT_HISTORY  ALTERNATE_USAGE  \\\n0          341              0.0      457.56              A           112.62   \n1          374              0.0     1161.67              A             0.00   \n2          398              0.0      449.21              A             0.00   \n3          427              0.0      888.02              A             0.00   \n4          435              0.0      670.17              B             0.00   \n\n   STANDING_CHARGE  BASE_CHARGE  ALTERNATE_CHARGE  LEVY    TAX  ...  \\\n0             7.49        67.44             10.16  2.55  17.18  ...   \n1             5.62       150.32              0.00  4.68  31.48  ...   \n2             5.62        58.13              0.00  1.91  12.87  ...   \n3             5.62       114.91              0.00  3.62  24.33  ...   \n4            14.87        86.72              0.00  3.05  20.51  ...   \n\n   MISSED_PAYMENT  BILLING_MONTH  RATIO_THIS_MONTH_BASE_USAGE_VS_LAST_MONTH  \\\n0            Paid         201904                                   1.010066   \n1            Paid         201903                                   0.865942   \n2            Paid         201904                                   1.005101   \n3            Paid         201901                                   0.893290   \n4            Paid         201808                                   3.169702   \n\n   RATIO_THIS_MONTH_BASE_USAGE_VS_AVG_LOOKBACK_WINDOW  \\\n0                                           0.968613    \n1                                           0.906075    \n2                                           0.949196    \n3                                           0.955593    \n4                                           0.000000    \n\n   RATIO_THIS_MONTH_ALTERNATE_USAGE_VS_LAST_MONTH  \\\n0                                        1.003296   \n1                                        0.000000   \n2                                        0.000000   \n3                                        0.000000   \n4                                        0.000000   \n\n   RATIO_THIS_MONTH_ALTERNATE_USAGE_VS_AVG_LOOKBACK_WINDOW  \\\n0                                           0.963031         \n1                                           0.000000         \n2                                           0.000000         \n3                                           0.000000         \n4                                           0.000000         \n\n   RATIO_THIS_MONTH_TOTAL_TO_PAY_VS_LAST_MONTH  \\\n0                                     1.008369   \n1                                     0.870136   \n2                                     1.004605   \n3                                     0.897757   \n4                                     2.405805   \n\n   RATIO_THIS_MONTH_TOTAL_TO_PAY_VS_AVG_LOOKBACK_WINDOW  \\\n0                                           0.970586      \n1                                           0.909148      \n2                                           0.953458      \n3                                           0.957585      \n4                                           0.000000      \n\n   NUM_MISSED_PAYMENTS_LOOKBACK_WINDOW  BILLING_MONTH_NUMBER  \n0                                    0                     4  \n1                                    0                     3  \n2                                    0                     4  \n3                                    0                     1  \n4                                    0                     8  \n\n[5 rows x 43 columns]"
                    },
                    "execution_count": 1,
                    "metadata": {},
                    "output_type": "execute_result"
                }
            ],
            "source": "# The code was removed by Watson Studio for sharing."
        },
        {
            "cell_type": "code",
            "execution_count": null,
            "metadata": {},
            "outputs": [],
            "source": ""
        }
    ],
    "metadata": {
        "kernelspec": {
            "display_name": "Python 3.7",
            "language": "python",
            "name": "python3"
        },
        "language_info": {
            "codemirror_mode": {
                "name": "ipython",
                "version": 3
            },
            "file_extension": ".py",
            "mimetype": "text/x-python",
            "name": "python",
            "nbconvert_exporter": "python",
            "pygments_lexer": "ipython3",
            "version": "3.7.10"
        }
    },
    "nbformat": 4,
    "nbformat_minor": 1
}